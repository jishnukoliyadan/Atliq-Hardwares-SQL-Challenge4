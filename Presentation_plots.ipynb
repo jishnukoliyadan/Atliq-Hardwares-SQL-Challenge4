{
 "cells": [
  {
   "cell_type": "code",
   "execution_count": null,
   "id": "7d3aec83-367a-41fa-8485-1ec3226ab032",
   "metadata": {},
   "outputs": [],
   "source": [
    "import os\n",
    "import pandas as pd\n",
    "\n",
    "from PIL import Image\n",
    "\n",
    "import plotly.express as px"
   ]
  },
  {
   "cell_type": "code",
   "execution_count": null,
   "id": "155a115e-2bf2-4436-afad-f3c97ad9a63d",
   "metadata": {},
   "outputs": [],
   "source": [
    "# This will convert MySQL database datas into CSV's and stores it\n",
    "\n",
    "!python DB_to_CSV.py"
   ]
  },
  {
   "cell_type": "code",
   "execution_count": null,
   "id": "1dd57bdf-ace4-4c2c-be44-23a7931d34f5",
   "metadata": {},
   "outputs": [],
   "source": [
    "if not os.path.isfile('atliq_hardware_db.csv'):\n",
    "    \n",
    "    print(\"Failed to find 'atliq_hardware_db.csv', Reading all databases\")\n",
    "    fact_manufacturing_cost = pd.read_csv('DB_CSVs/fact_manufacturing_cost.csv')\n",
    "    dim_product = pd.read_csv('DB_CSVs/dim_product.csv')\n",
    "    fact_pre_invoice_deductions = pd.read_csv('DB_CSVs/fact_pre_invoice_deductions.csv')\n",
    "    fact_sales_monthly = pd.read_csv('DB_CSVs/fact_sales_monthly.csv')\n",
    "    dim_customer = pd.read_csv('DB_CSVs/dim_customer.csv')\n",
    "    fact_gross_price = pd.read_csv('DB_CSVs/fact_gross_price.csv')\n",
    "    \n",
    "    sales_cus = pd.merge(fact_sales_monthly, dim_customer,on = 'customer_code')\n",
    "    sale_cus_pro = pd.merge(sales_cus, dim_product, on = 'product_code')\n",
    "    sale_cus_pro_manCost = pd.merge(sale_cus_pro, fact_manufacturing_cost.rename(columns = {'cost_year' : 'fiscal_year'}), on = ['product_code', 'fiscal_year'])\n",
    "    sale_cus_pro_manCost_grossP = pd.merge(sale_cus_pro_manCost, fact_gross_price, on = ['product_code', 'fiscal_year'])\n",
    "    merged_db = pd.merge(sale_cus_pro_manCost_grossP, fact_pre_invoice_deductions, on = ['customer_code', 'fiscal_year'])\n",
    "\n",
    "    columns_order = ['date', 'customer_code', 'customer', 'product_code', 'product', 'division', 'segment', 'category', 'variant',\n",
    "    'platform', 'channel', 'market', 'sub_zone', 'region', 'sold_quantity', 'manufacturing_cost',\n",
    "    'gross_price', 'pre_invoice_discount_pct', 'fiscal_year']\n",
    "\n",
    "    atliq_hardware_db = merged_db[columns_order]\n",
    "    atliq_hardware_db.to_csv('atliq_hardware_db.csv', index = False)    \n",
    "\n",
    "else:\n",
    "    print(\"Reading from 'atliq_hardware_db.csv'\")\n",
    "    atliq_hardware_db = pd.read_csv('atliq_hardware_db.csv')\n",
    "    \n",
    "def regain_ch(row):\n",
    "    if row == 'APAC': return 'Asia Pacific'\n",
    "    elif row == 'EU': return 'European Union'\n",
    "    elif row == 'LATAM': return 'Latin America'\n",
    "    else: return 'Northern America'\n",
    "    \n",
    "atliq_hardware_db['region'] = atliq_hardware_db.region.apply(regain_ch)\n",
    "\n",
    "print(atliq_hardware_db.shape)\n",
    "atliq_hardware_db.head(2)\n"
   ]
  },
  {
   "cell_type": "code",
   "execution_count": null,
   "id": "618cca78-241c-432c-b909-a6cba00cd0ee",
   "metadata": {},
   "outputs": [],
   "source": [
    "atliq_hardware_db['gross_manufacturing_cost'] = atliq_hardware_db['manufacturing_cost'] * atliq_hardware_db['sold_quantity']\n",
    "atliq_hardware_db['gross_sales'] = atliq_hardware_db['gross_price'] * atliq_hardware_db['sold_quantity']\n",
    "atliq_hardware_db['gross_profit'] = atliq_hardware_db['gross_sales'] - atliq_hardware_db['gross_manufacturing_cost']"
   ]
  },
  {
   "cell_type": "code",
   "execution_count": null,
   "id": "fa455a81-a477-4292-8945-93ce4e748ff2",
   "metadata": {},
   "outputs": [],
   "source": [
    "products_2020 = atliq_hardware_db[atliq_hardware_db.fiscal_year == 2020].product_code.unique()\n",
    "\n",
    "atliq_hardware_db['existing_products'] = atliq_hardware_db.product_code.apply(lambda x : 'no' if x in products_2020 else 'yes')\n",
    "\n",
    "atliq_hardware_db.head(2)\n"
   ]
  },
  {
   "cell_type": "code",
   "execution_count": null,
   "id": "93ccb2e1-24af-48b6-b0bd-649b703ad1da",
   "metadata": {},
   "outputs": [],
   "source": [
    "# https://community.plotly.com/t/plotly-express-with-xaxis-having-integers-strings/34777\n",
    "\n",
    "img = Image.open('images/curly-braces-l.png')\n",
    "\n",
    "fig = px.histogram(data_frame = atliq_hardware_db,\n",
    "                   x = 'fiscal_year' , y = 'gross_profit',\n",
    "                   color  = 'existing_products', text_auto = '.5s',\n",
    "                   width = 950, height = 650,\n",
    "                   title = '<b>Profit generation growth</b><br><sub>Introduction of new products in <b>2021</b> helped to gain additional <b>120.86%</b> growth</sub>')\n",
    "\n",
    "fig.update_layout(xaxis_title = 'Financial Year',\n",
    "                  yaxis_title = 'Generated Profit',\n",
    "                  legend_title = 'Products',\n",
    "                  xaxis_type = 'category',\n",
    "                  template = 'plotly_white')\n",
    "\n",
    "# https://stackoverflow.com/a/64378982\n",
    "newnames = {'no' : 'Exisiting Productes', 'yes' : 'New products'}\n",
    "fig.for_each_trace(lambda t: t.update(name = newnames[t.name],\n",
    "                                      legendgroup = newnames[t.name],\n",
    "                                      hovertemplate = t.hovertemplate.replace(t.name, newnames[t.name])))\n",
    "\n",
    "fig.add_layout_image(dict(source = img, opacity = 0.3,\n",
    "                          xref = 'paper', yref = 'paper',\n",
    "                          sizing = 'stretch', layer = 'below'))\n",
    "\n",
    "fig.update_layout_images(dict(xref = 'paper', yref = 'paper',\n",
    "                              sizex = 0.04, sizey = 0.35,\n",
    "                              xanchor ='center', yanchor ='middle',\n",
    "                              x = 0.5, y = 0.76))\n",
    "\n",
    "fig.add_annotation(text = 'Profit generated by the<br>new products alone',\n",
    "                   align = 'center', xref = 'paper', yref = 'paper',\n",
    "                   x = 0.25, y = 0.82, showarrow = False, \n",
    "                   font = dict(size = 13, color = 'black'))\n",
    "\n",
    "fig.write_image('images/plots/profit_generated.png', scale = 3)\n",
    "\n",
    "fig.show()"
   ]
  },
  {
   "cell_type": "markdown",
   "id": "08c95997-dac4-4c3b-82c7-3c28c354419f",
   "metadata": {},
   "source": [
    "![](images/plots/profit_generated.png)"
   ]
  },
  {
   "cell_type": "code",
   "execution_count": null,
   "id": "dbf42969-c935-4e70-9043-c8ce39761268",
   "metadata": {},
   "outputs": [],
   "source": [
    "# https://community.plotly.com/t/plotly-express-with-xaxis-having-integers-strings/34777\n",
    "\n",
    "profit_acces_p_2021 = round(sum(atliq_hardware_db.query(\"segment == 'Accessories' & fiscal_year == 2021\").gross_profit) / 1e6, 2)\n",
    "profit_acces_q_2021 = round(sum(atliq_hardware_db.query(\"segment == 'Accessories' & fiscal_year == 2021\").sold_quantity) / 1e6, 2)\n",
    "profit_note_p_2021 = round(sum(atliq_hardware_db.query(\"segment == 'Notebook' & fiscal_year == 2021\").gross_profit) / 1e6, 2)\n",
    "profit_note_q_2021 = round(sum(atliq_hardware_db.query(\"segment == 'Notebook' & fiscal_year == 2021\").sold_quantity) / 1e6, 2)\n",
    "\n",
    "fig = px.histogram(data_frame = atliq_hardware_db,\n",
    "                   x = 'segment' , y = 'sold_quantity',\n",
    "                   color = 'fiscal_year',\n",
    "                   text_auto = '.5s',\n",
    "                   width = 950, height = 650,\n",
    "                   barmode = 'group',\n",
    "                   title = f'<b>Sales volume in each segments</b><br><sub>In <b>2021</b>, with  <b>{profit_note_q_2021}</b> million quantity <b>notebooks</b> sale made a maximum profit of <b>{profit_note_p_2021}</b> million.</sub>')\n",
    "\n",
    "fig.update_layout(template = 'plotly_white',\n",
    "                  xaxis_title = 'Segment',\n",
    "                  yaxis_title = 'Total sold quantity',\n",
    "                  legend_title = 'Financial Year',\n",
    "                  xaxis = {'categoryorder':'total ascending'})\n",
    "\n",
    "fig.add_annotation(text = f'Sale of <b>{profit_acces_q_2021}</b> million <b>acccessories</b> made a profit of <b>{profit_acces_p_2021}</b> million in 2021<br>',\n",
    "                   align = 'center', xref = 'paper', yref = 'paper',\n",
    "                   x = 0.22, y = 0.84, showarrow = False, \n",
    "                   font = dict(size = 13, color = 'black'))\n",
    "\n",
    "fig.write_image('images/plots/sales_volume_segment.png', scale = 3)\n",
    "\n",
    "fig.show()"
   ]
  },
  {
   "cell_type": "markdown",
   "id": "df66e6b0-bd11-44b2-a077-4dc99f3a3ccb",
   "metadata": {},
   "source": [
    "![](images/plots/sales_volume_segment.png)"
   ]
  },
  {
   "cell_type": "code",
   "execution_count": null,
   "id": "e6bbab29-67e7-4cd5-b3d5-060d5327ae35",
   "metadata": {},
   "outputs": [],
   "source": [
    "# https://community.plotly.com/t/plotly-express-with-xaxis-having-integers-strings/34777\n",
    "\n",
    "img = Image.open('images/curly-braces-u.png')\n",
    "\n",
    "fhy_2021_share= round(sum(atliq_hardware_db.query('fiscal_year == 2021 & platform == \"Brick & Mortar\"').sold_quantity) * 100 / sum(atliq_hardware_db.query('fiscal_year == 2021').sold_quantity), 2)\n",
    "ecom_latin_2021 = round(sum(atliq_hardware_db.query('fiscal_year == 2021 & platform == \"E-Commerce\" & region == \"Latin America\"').gross_sales) / 1e6, 2)\n",
    "\n",
    "fig = px.histogram(data_frame = atliq_hardware_db.query('fiscal_year == 2021'),\n",
    "                   x = 'region' , y = 'sold_quantity',\n",
    "                   color  = 'platform',\n",
    "                   text_auto = '.5s',\n",
    "                   width = 950, height = 650,\n",
    "                   barmode = 'group', \n",
    "                   title = f'<b>Importance of having physical stores even in <b>2021</b></b><br><sub>Physical stores accounts more-than<b>{fhy_2021_share}%</b> of the total sales quantity.</sub>')\n",
    "\n",
    "fig.update_layout(xaxis_title = 'Sales region',\n",
    "                  yaxis_title = 'Total sold quantity',\n",
    "                  legend_title = 'Platform of Sales',\n",
    "                  template = 'plotly_white',\n",
    "                  xaxis = {'categoryorder':'total ascending'})\n",
    "\n",
    "# https://stackoverflow.com/a/64378982\n",
    "newnames = {'Brick & Mortar' : 'Physical store', 'E-Commerce': 'E-Commerce'}\n",
    "fig.for_each_trace(lambda t: t.update(name = newnames[t.name],\n",
    "                                      legendgroup = newnames[t.name],\n",
    "                                      hovertemplate = t.hovertemplate.replace(t.name, newnames[t.name])))\n",
    "\n",
    "fig.add_annotation(text = f'While Latin America prefers <b>E-Commerce</b> over physical stores,<br>and generated <b>{ecom_latin_2021} million</b> revenue via <b>E-Comm.</b>.',\n",
    "                   align = 'center', xref = 'paper', yref = 'paper',\n",
    "                   x = 0.1, y = 0.82, showarrow = False, \n",
    "                   font = dict(size = 13, color = 'black'))\n",
    "\n",
    "fig.add_layout_image(dict(source = img, opacity = 0.7,\n",
    "                          xref = 'paper', yref = 'paper',\n",
    "                          sizing = 'stretch', layer = 'below'))\n",
    "\n",
    "fig.update_layout_images(dict(xref = 'paper', yref = 'paper',\n",
    "                              sizex = 0.17, sizey = 0.05,\n",
    "                              xanchor ='center', yanchor ='middle',\n",
    "                              x = 0.12, y = 0.1))\n",
    "\n",
    "fig.add_shape(type = 'line',\n",
    "              xref = 'paper', yref = 'paper',\n",
    "              x0 = 0.12, y0 = 0.13,\n",
    "              x1 = 0.38, y1 = 0.72)\n",
    "\n",
    "fig.write_image('images/plots/platform_vs_sales.png', scale = 3)\n",
    "\n",
    "fig.show()"
   ]
  },
  {
   "cell_type": "markdown",
   "id": "ccaf4dcc-5c40-4556-930b-fc680b4346e8",
   "metadata": {},
   "source": [
    "![](images/plots/platform_vs_sales.png)"
   ]
  },
  {
   "cell_type": "code",
   "execution_count": null,
   "id": "7a9cbc07-89b4-480b-b089-e08b061d5cc8",
   "metadata": {},
   "outputs": [],
   "source": [
    "apac_sold_q = round(sum(atliq_hardware_db.query('region == \"Asia Pacific\"').sold_quantity) / 1e6, 2)\n",
    "\n",
    "fig = px.pie(data_frame = atliq_hardware_db, values = 'sold_quantity', names = 'region', \n",
    "             width = 650, height = 650,\n",
    "             title = f'<b>Sales quantity market share across regions</b><br><sub><b>Asia Pacific</b> region records major share in portfolio,<br>with <b>{apac_sold_q}</b> million product sales.</sub>')\n",
    "\n",
    "fig.update_layout(legend_title = 'Regions')\n",
    "fig.update_traces(textposition = 'auto', textinfo = 'percent+label')\n",
    "\n",
    "fig.write_image('images/plots/market_share_quantity.png', scale = 3)\n",
    "\n",
    "fig.show()"
   ]
  },
  {
   "cell_type": "markdown",
   "id": "1582580c-b85a-4b96-bfe1-05e3d34c0312",
   "metadata": {},
   "source": [
    "![](images/plots/market_share_quantity.png)"
   ]
  },
  {
   "cell_type": "code",
   "execution_count": null,
   "id": "4f736188-9c5f-49bf-a0c8-362333c3913b",
   "metadata": {},
   "outputs": [],
   "source": [
    "apac_sold_i = round(sum(atliq_hardware_db.query('region == \"Asia Pacific\"').gross_sales) / 1e9, 2)\n",
    "latin_sold_i = round(sum(atliq_hardware_db.query('region == \"Latin America\"').gross_sales) / 1e6, 2)\n",
    "\n",
    "fig = px.pie(data_frame = atliq_hardware_db, values = 'gross_sales', names = 'region',\n",
    "             width = 650, height = 650,\n",
    "             title = f'<b>Gross income share across regions</b><br><sub><b>Asia Pacific</b> region accounts <b>{apac_sold_i}</b> billion income,<br><b>Latin America</b> accounts <b>{latin_sold_i}</b> million.</sub>')\n",
    "\n",
    "fig.update_layout(legend_title = 'Regions')\n",
    "fig.update_traces(textposition = 'auto', textinfo = 'percent+label')\n",
    "\n",
    "fig.write_image('images/plots/market_share_income.png', scale = 3)\n",
    "\n",
    "fig.show()"
   ]
  },
  {
   "cell_type": "markdown",
   "id": "8d553601-1720-425d-a8bd-08fe67c99948",
   "metadata": {},
   "source": [
    "![](images/plots/market_share_income.png)"
   ]
  },
  {
   "cell_type": "code",
   "execution_count": null,
   "id": "a3698c15-635a-4b10-92e3-80de79d599b9",
   "metadata": {},
   "outputs": [],
   "source": [
    "threshold = 50*1e6\n",
    "\n",
    "sales_details_2020 = atliq_hardware_db.query('fiscal_year == 2020').groupby('market')[['sold_quantity', 'gross_manufacturing_cost', 'gross_sales', 'gross_profit']].agg(sum).reset_index()\n",
    "sales_details_2021 = atliq_hardware_db.query('fiscal_year == 2021').groupby('market')[['sold_quantity', 'gross_manufacturing_cost', 'gross_sales', 'gross_profit']].agg(sum).reset_index()\n",
    "\n",
    "conbined_sales = pd.merge(sales_details_2020, sales_details_2021, on = 'market', suffixes = ['_2020', '_2021'])\n",
    "fifty_million_club = conbined_sales.query('gross_sales_2020 < @threshold and gross_sales_2021 > @threshold')"
   ]
  },
  {
   "cell_type": "code",
   "execution_count": null,
   "id": "afd8c223-0076-4ce7-b67b-9dd77a7fe36c",
   "metadata": {},
   "outputs": [],
   "source": [
    "# https://community.plotly.com/t/plotly-express-with-xaxis-having-integers-strings/34777\n",
    "\n",
    "fig = px.histogram(data_frame = atliq_hardware_db.query('fiscal_year == 2020'),\n",
    "                   x = 'market' , y = 'gross_sales',\n",
    "                   text_auto = '.5s',\n",
    "                   width = 950, height = 660)\n",
    "\n",
    "fig.update_layout(template = 'plotly_white')\n",
    "fig.update_layout(xaxis = {'categoryorder':'total ascending'})\n",
    "\n",
    "fig.show()"
   ]
  },
  {
   "cell_type": "markdown",
   "id": "19ed53fb-1229-43c5-999d-ab616f1d5bfb",
   "metadata": {},
   "source": [
    "![](https://i.imgur.com/rvOQkgi.png)"
   ]
  },
  {
   "cell_type": "code",
   "execution_count": null,
   "id": "ea5f7870-f3eb-44e8-9aa4-af0fdb30394d",
   "metadata": {},
   "outputs": [],
   "source": [
    "# https://community.plotly.com/t/plotly-express-with-xaxis-having-integers-strings/34777\n",
    "\n",
    "fig = px.histogram(data_frame = sales_details_2021,\n",
    "                   x = 'market' , y = 'gross_sales',\n",
    "                   text_auto = '.5s',\n",
    "                   width = 950, height = 650)\n",
    "\n",
    "fig.update_layout(template = 'plotly_white')\n",
    "fig.update_layout(xaxis = {'categoryorder':'total ascending'})\n",
    "\n",
    "fig.show()"
   ]
  },
  {
   "cell_type": "markdown",
   "id": "44656004-60ae-4ada-b2cf-0dabe1cc4ae4",
   "metadata": {},
   "source": [
    "![](https://i.imgur.com/eBBPLCp.png)"
   ]
  },
  {
   "cell_type": "code",
   "execution_count": null,
   "id": "05598123-05b7-4472-b1a4-ad3bf79bbc23",
   "metadata": {},
   "outputs": [],
   "source": [
    "newnames = {'gross_sales_2020' : 'Income in 2020', 'gross_sales_2021' : 'Income in 2021'}\n",
    "\n",
    "count_ = conbined_sales.query('gross_sales_2020 > gross_sales_2021').market.values[0]\n",
    "decline_ = round(abs(conbined_sales.query('gross_sales_2020 > gross_sales_2021').gross_sales_2021 - conbined_sales.query('gross_sales_2020 > gross_sales_2021').gross_sales_2020) / 1e6, 2).values[0]\n",
    "\n",
    "fig = px.histogram(data_frame = fifty_million_club,\n",
    "                   x = 'market' , y = ['gross_sales_2020', 'gross_sales_2021'],\n",
    "                   text_auto = '.5s',\n",
    "                   width = 950, height = 600,\n",
    "                   barmode = 'group', \n",
    "                   title = '<b>Countries / market who joined 50 million income club in 2021</b><br><sub>Market generated less-than <b>50</b> million in <b>2020</b> and generated <b>50+</b> million in <b>2021</b> sales.</sub>')\n",
    "\n",
    "fig.update_layout(xaxis_title = 'Market',\n",
    "                  yaxis_title = 'Gross Sales',\n",
    "                  legend_title = 'Financial Year',\n",
    "                  template = 'plotly_white',\n",
    "                  xaxis = {'categoryorder':'total ascending'})\n",
    "\n",
    "# https://stackoverflow.com/a/64378982\n",
    "fig.for_each_trace(lambda t: t.update(name = newnames[t.name],\n",
    "                                      legendgroup = newnames[t.name],\n",
    "                                      hovertemplate = t.hovertemplate.replace(t.name, newnames[t.name])))\n",
    "\n",
    "fig.add_annotation(text = f'While <b>{count_}</b> showed a negative decline of<br><b>{decline_}</b> million income in <b>2021</b> compared to 2020.',\n",
    "                   align = 'center', xref = 'paper', yref = 'paper',\n",
    "                   x = 0.05, y = 0.95, showarrow = False, \n",
    "                   font = dict(size = 13, color = '#665857'))\n",
    "\n",
    "fig.write_image('images/plots/50_million_club_sales.png', scale = 3)\n",
    "\n",
    "fig.show()"
   ]
  },
  {
   "cell_type": "markdown",
   "id": "56debe5c-2d48-4a8b-a451-b3675a215c78",
   "metadata": {},
   "source": [
    "![](images/plots/50_million_club_sales.png)"
   ]
  }
 ],
 "metadata": {
  "kernelspec": {
   "display_name": "Python 3 (ipykernel)",
   "language": "python",
   "name": "python3"
  },
  "language_info": {
   "codemirror_mode": {
    "name": "ipython",
    "version": 3
   },
   "file_extension": ".py",
   "mimetype": "text/x-python",
   "name": "python",
   "nbconvert_exporter": "python",
   "pygments_lexer": "ipython3",
   "version": "3.9.7"
  }
 },
 "nbformat": 4,
 "nbformat_minor": 5
}
