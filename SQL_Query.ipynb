{
 "cells": [
  {
   "cell_type": "markdown",
   "id": "2ff56608-bf29-4209-9c97-95984c8a6cb1",
   "metadata": {
    "tags": []
   },
   "source": [
    "## Importing Libraries"
   ]
  },
  {
   "cell_type": "code",
   "execution_count": 1,
   "id": "ca1d9891-8557-4663-964e-e30be2875f59",
   "metadata": {
    "tags": []
   },
   "outputs": [],
   "source": [
    "import pandas as pd\n",
    "import mysql.connector\n",
    "from credentials import db_password"
   ]
  },
  {
   "cell_type": "markdown",
   "id": "c6c36fd5-5050-4b3a-b4f8-f590f08676c2",
   "metadata": {},
   "source": [
    "## Connecting to **gdb023** database"
   ]
  },
  {
   "cell_type": "code",
   "execution_count": 2,
   "id": "18e6dbe0-d75a-46d7-ba43-65f71d68a6c9",
   "metadata": {
    "tags": []
   },
   "outputs": [
    {
     "name": "stdout",
     "output_type": "stream",
     "text": [
      "dim_customer\n",
      "dim_product\n",
      "fact_gross_price\n",
      "fact_manufacturing_cost\n",
      "fact_pre_invoice_deductions\n",
      "fact_sales_monthly\n"
     ]
    }
   ],
   "source": [
    "mydb = mysql.connector.connect(host = 'localhost', user = 'root', password = db_password, database = 'gdb023')\n",
    "cursorObject = mydb.cursor()\n",
    "\n",
    "query = '''\n",
    "        SHOW TABLES\n",
    "        '''\n",
    "cursorObject.execute(query)\n",
    "tables_list = cursorObject.fetchall()\n",
    "\n",
    "for table in tables_list:\n",
    "    print(table[0])"
   ]
  },
  {
   "cell_type": "markdown",
   "id": "b4efcfce-2e38-406e-bf8a-5f409eb76adc",
   "metadata": {},
   "source": [
    "## Requests :"
   ]
  },
  {
   "cell_type": "markdown",
   "id": "dfe17752-9a9a-49bd-a98b-17305e96de73",
   "metadata": {},
   "source": [
    "### Q1. Provide the list of markets in which customer **\"Atliq Exclusive\"** operates its business in the **APAC** region."
   ]
  },
  {
   "cell_type": "code",
   "execution_count": 3,
   "id": "825db86f-4b42-4503-8fdd-659e0b55fde9",
   "metadata": {
    "tags": []
   },
   "outputs": [
    {
     "data": {
      "text/html": [
       "<div>\n",
       "<style scoped>\n",
       "    .dataframe tbody tr th:only-of-type {\n",
       "        vertical-align: middle;\n",
       "    }\n",
       "\n",
       "    .dataframe tbody tr th {\n",
       "        vertical-align: top;\n",
       "    }\n",
       "\n",
       "    .dataframe thead th {\n",
       "        text-align: right;\n",
       "    }\n",
       "</style>\n",
       "<table border=\"1\" class=\"dataframe\">\n",
       "  <thead>\n",
       "    <tr style=\"text-align: right;\">\n",
       "      <th></th>\n",
       "      <th>market</th>\n",
       "    </tr>\n",
       "  </thead>\n",
       "  <tbody>\n",
       "    <tr>\n",
       "      <th>0</th>\n",
       "      <td>India</td>\n",
       "    </tr>\n",
       "    <tr>\n",
       "      <th>1</th>\n",
       "      <td>Indonesia</td>\n",
       "    </tr>\n",
       "    <tr>\n",
       "      <th>2</th>\n",
       "      <td>Japan</td>\n",
       "    </tr>\n",
       "    <tr>\n",
       "      <th>3</th>\n",
       "      <td>Philiphines</td>\n",
       "    </tr>\n",
       "    <tr>\n",
       "      <th>4</th>\n",
       "      <td>South Korea</td>\n",
       "    </tr>\n",
       "    <tr>\n",
       "      <th>5</th>\n",
       "      <td>Australia</td>\n",
       "    </tr>\n",
       "    <tr>\n",
       "      <th>6</th>\n",
       "      <td>Newzealand</td>\n",
       "    </tr>\n",
       "    <tr>\n",
       "      <th>7</th>\n",
       "      <td>Bangladesh</td>\n",
       "    </tr>\n",
       "  </tbody>\n",
       "</table>\n",
       "</div>"
      ],
      "text/plain": [
       "        market\n",
       "0        India\n",
       "1    Indonesia\n",
       "2        Japan\n",
       "3  Philiphines\n",
       "4  South Korea\n",
       "5    Australia\n",
       "6   Newzealand\n",
       "7   Bangladesh"
      ]
     },
     "execution_count": 3,
     "metadata": {},
     "output_type": "execute_result"
    }
   ],
   "source": [
    "QUERY = '''\n",
    "        SELECT DISTINCT(market) FROM dim_customer\n",
    "            WHERE region = 'APAC' AND customer = 'Atliq Exclusive'\n",
    "        '''\n",
    "cursorObject.execute(QUERY)\n",
    "pd.DataFrame(cursorObject.fetchall(), columns = cursorObject.column_names)"
   ]
  },
  {
   "cell_type": "markdown",
   "id": "b1ec8042-f2da-4922-8aa2-fd12dafa2292",
   "metadata": {
    "tags": []
   },
   "source": [
    "### Q2. What is the percentage of unique product increase in 2021 vs. 2020?\n",
    "The final output contains these fields,\n",
    "- unique_products_2020\n",
    "- unique_products_2021\n",
    "- percentage_chg"
   ]
  },
  {
   "cell_type": "code",
   "execution_count": 4,
   "id": "0de80081-4e5c-4dd1-bb36-74be27b15fbd",
   "metadata": {
    "tags": []
   },
   "outputs": [
    {
     "data": {
      "text/html": [
       "<div>\n",
       "<style scoped>\n",
       "    .dataframe tbody tr th:only-of-type {\n",
       "        vertical-align: middle;\n",
       "    }\n",
       "\n",
       "    .dataframe tbody tr th {\n",
       "        vertical-align: top;\n",
       "    }\n",
       "\n",
       "    .dataframe thead th {\n",
       "        text-align: right;\n",
       "    }\n",
       "</style>\n",
       "<table border=\"1\" class=\"dataframe\">\n",
       "  <thead>\n",
       "    <tr style=\"text-align: right;\">\n",
       "      <th></th>\n",
       "      <th>unique_products_2020</th>\n",
       "      <th>unique_products_2021</th>\n",
       "      <th>percentage_chg</th>\n",
       "    </tr>\n",
       "  </thead>\n",
       "  <tbody>\n",
       "    <tr>\n",
       "      <th>0</th>\n",
       "      <td>245</td>\n",
       "      <td>334</td>\n",
       "      <td>36.33</td>\n",
       "    </tr>\n",
       "  </tbody>\n",
       "</table>\n",
       "</div>"
      ],
      "text/plain": [
       "   unique_products_2020  unique_products_2021 percentage_chg\n",
       "0                   245                   334          36.33"
      ]
     },
     "execution_count": 4,
     "metadata": {},
     "output_type": "execute_result"
    }
   ],
   "source": [
    "QUERY = '''\n",
    "        WITH fy20 AS (\n",
    "                SELECT COUNT(DISTINCT(product_code)) AS up_20 FROM fact_sales_monthly\n",
    "                    WHERE fiscal_year = 2020),\n",
    "                    \n",
    "            fy21 AS (\n",
    "                SELECT COUNT(DISTINCT(product_code)) AS up_21 FROM fact_sales_monthly\n",
    "                    WHERE fiscal_year = 2021)\n",
    "                    \n",
    "        SELECT fy20.up_20 AS unique_products_2020,\n",
    "            fy21.up_21 AS unique_products_2021,\n",
    "            ROUND((fy21.up_21-fy20.up_20) * 100/fy20.up_20, 2) as percentage_chg\n",
    "            FROM fy20, fy21\n",
    "        '''\n",
    "cursorObject.execute(QUERY)\n",
    "pd.DataFrame(cursorObject.fetchall(), columns = cursorObject.column_names)"
   ]
  },
  {
   "cell_type": "markdown",
   "id": "5da852b1-88a8-4ae5-be29-a949c2b183da",
   "metadata": {
    "tags": []
   },
   "source": [
    "### Q3. Provide a report with all the unique product counts for each **segment** and sort them in descending order of product counts.\n",
    "The final output contains 2 fields,\n",
    "- segment\n",
    "- product_count"
   ]
  },
  {
   "cell_type": "code",
   "execution_count": 5,
   "id": "5ac408b4-b27e-4e41-822f-1024d88feb38",
   "metadata": {
    "tags": []
   },
   "outputs": [
    {
     "data": {
      "text/html": [
       "<div>\n",
       "<style scoped>\n",
       "    .dataframe tbody tr th:only-of-type {\n",
       "        vertical-align: middle;\n",
       "    }\n",
       "\n",
       "    .dataframe tbody tr th {\n",
       "        vertical-align: top;\n",
       "    }\n",
       "\n",
       "    .dataframe thead th {\n",
       "        text-align: right;\n",
       "    }\n",
       "</style>\n",
       "<table border=\"1\" class=\"dataframe\">\n",
       "  <thead>\n",
       "    <tr style=\"text-align: right;\">\n",
       "      <th></th>\n",
       "      <th>segment</th>\n",
       "      <th>product_count</th>\n",
       "    </tr>\n",
       "  </thead>\n",
       "  <tbody>\n",
       "    <tr>\n",
       "      <th>0</th>\n",
       "      <td>Notebook</td>\n",
       "      <td>129</td>\n",
       "    </tr>\n",
       "    <tr>\n",
       "      <th>1</th>\n",
       "      <td>Accessories</td>\n",
       "      <td>116</td>\n",
       "    </tr>\n",
       "    <tr>\n",
       "      <th>2</th>\n",
       "      <td>Peripherals</td>\n",
       "      <td>84</td>\n",
       "    </tr>\n",
       "    <tr>\n",
       "      <th>3</th>\n",
       "      <td>Desktop</td>\n",
       "      <td>32</td>\n",
       "    </tr>\n",
       "    <tr>\n",
       "      <th>4</th>\n",
       "      <td>Storage</td>\n",
       "      <td>27</td>\n",
       "    </tr>\n",
       "    <tr>\n",
       "      <th>5</th>\n",
       "      <td>Networking</td>\n",
       "      <td>9</td>\n",
       "    </tr>\n",
       "  </tbody>\n",
       "</table>\n",
       "</div>"
      ],
      "text/plain": [
       "       segment  product_count\n",
       "0     Notebook            129\n",
       "1  Accessories            116\n",
       "2  Peripherals             84\n",
       "3      Desktop             32\n",
       "4      Storage             27\n",
       "5   Networking              9"
      ]
     },
     "execution_count": 5,
     "metadata": {},
     "output_type": "execute_result"
    }
   ],
   "source": [
    "QUERY = '''\n",
    "        SELECT segment, count(product) AS product_count FROM dim_product\n",
    "            GROUP BY segment\n",
    "            ORDER BY product_count DESC\n",
    "        '''\n",
    "cursorObject.execute(QUERY)\n",
    "pd.DataFrame(cursorObject.fetchall(), columns = cursorObject.column_names)"
   ]
  },
  {
   "cell_type": "markdown",
   "id": "0aedc6f5-b10c-4ff2-898d-4fe3228e2c51",
   "metadata": {},
   "source": [
    "### Q4. Follow-up: Which segment had the most increase in unique products in 2021 vs 2020?\n",
    "The final output contains these fields,\n",
    "- segment\n",
    "- product_count_2020\n",
    "- product_count_2021\n",
    "- difference"
   ]
  },
  {
   "cell_type": "code",
   "execution_count": 6,
   "id": "9327e2ac-92a1-4c3f-97e6-0309402a2a68",
   "metadata": {
    "tags": []
   },
   "outputs": [
    {
     "data": {
      "text/html": [
       "<div>\n",
       "<style scoped>\n",
       "    .dataframe tbody tr th:only-of-type {\n",
       "        vertical-align: middle;\n",
       "    }\n",
       "\n",
       "    .dataframe tbody tr th {\n",
       "        vertical-align: top;\n",
       "    }\n",
       "\n",
       "    .dataframe thead th {\n",
       "        text-align: right;\n",
       "    }\n",
       "</style>\n",
       "<table border=\"1\" class=\"dataframe\">\n",
       "  <thead>\n",
       "    <tr style=\"text-align: right;\">\n",
       "      <th></th>\n",
       "      <th>segment</th>\n",
       "      <th>product_count_2020</th>\n",
       "      <th>product_count_2021</th>\n",
       "      <th>difference</th>\n",
       "    </tr>\n",
       "  </thead>\n",
       "  <tbody>\n",
       "    <tr>\n",
       "      <th>0</th>\n",
       "      <td>Accessories</td>\n",
       "      <td>69</td>\n",
       "      <td>103</td>\n",
       "      <td>34</td>\n",
       "    </tr>\n",
       "    <tr>\n",
       "      <th>1</th>\n",
       "      <td>Notebook</td>\n",
       "      <td>92</td>\n",
       "      <td>108</td>\n",
       "      <td>16</td>\n",
       "    </tr>\n",
       "    <tr>\n",
       "      <th>2</th>\n",
       "      <td>Peripherals</td>\n",
       "      <td>59</td>\n",
       "      <td>75</td>\n",
       "      <td>16</td>\n",
       "    </tr>\n",
       "    <tr>\n",
       "      <th>3</th>\n",
       "      <td>Desktop</td>\n",
       "      <td>7</td>\n",
       "      <td>22</td>\n",
       "      <td>15</td>\n",
       "    </tr>\n",
       "    <tr>\n",
       "      <th>4</th>\n",
       "      <td>Storage</td>\n",
       "      <td>12</td>\n",
       "      <td>17</td>\n",
       "      <td>5</td>\n",
       "    </tr>\n",
       "    <tr>\n",
       "      <th>5</th>\n",
       "      <td>Networking</td>\n",
       "      <td>6</td>\n",
       "      <td>9</td>\n",
       "      <td>3</td>\n",
       "    </tr>\n",
       "  </tbody>\n",
       "</table>\n",
       "</div>"
      ],
      "text/plain": [
       "       segment  product_count_2020  product_count_2021  difference\n",
       "0  Accessories                  69                 103          34\n",
       "1     Notebook                  92                 108          16\n",
       "2  Peripherals                  59                  75          16\n",
       "3      Desktop                   7                  22          15\n",
       "4      Storage                  12                  17           5\n",
       "5   Networking                   6                   9           3"
      ]
     },
     "execution_count": 6,
     "metadata": {},
     "output_type": "execute_result"
    }
   ],
   "source": [
    "QUERY = '''\n",
    "    WITH fy20 AS(\n",
    "            SELECT segment, COUNT(DISTINCT(fm.product_code)) AS seg20 FROM fact_sales_monthly fm\n",
    "                JOIN dim_product dp\n",
    "                ON fm.product_code = dp.product_code\n",
    "                WHERE fiscal_year = 2020\n",
    "                GROUP BY dp.segment),\n",
    "                \n",
    "        fy21 AS(\n",
    "            SELECT segment, COUNT(DISTINCT(fm.product_code)) AS seg21 FROM fact_sales_monthly fm\n",
    "                JOIN dim_product dp\n",
    "                ON fm.product_code = dp.product_code\n",
    "                WHERE fiscal_year = 2021\n",
    "                GROUP BY dp.segment)\n",
    "                \n",
    "    SELECT fy20.segment, seg20 AS product_count_2020, seg21 AS product_count_2021, seg21-seg20 AS difference FROM fy20\n",
    "        JOIN fy21\n",
    "        ON fy20.segment = fy21.segment\n",
    "        ORDER BY difference DESC\n",
    "        '''\n",
    "cursorObject.execute(QUERY)\n",
    "pd.DataFrame(cursorObject.fetchall(), columns = cursorObject.column_names)"
   ]
  },
  {
   "cell_type": "markdown",
   "id": "89c4b712-7c80-404b-ac22-e81735be1524",
   "metadata": {},
   "source": [
    "### Q5. Get the products that have the highest and lowest manufacturing costs.\n",
    "The final output should contain these fields,\n",
    "- product_code\n",
    "- product\n",
    "- manufacturing_cost"
   ]
  },
  {
   "cell_type": "code",
   "execution_count": 7,
   "id": "59c7862a-69d1-4b97-bf94-765363956727",
   "metadata": {
    "tags": []
   },
   "outputs": [
    {
     "data": {
      "text/html": [
       "<div>\n",
       "<style scoped>\n",
       "    .dataframe tbody tr th:only-of-type {\n",
       "        vertical-align: middle;\n",
       "    }\n",
       "\n",
       "    .dataframe tbody tr th {\n",
       "        vertical-align: top;\n",
       "    }\n",
       "\n",
       "    .dataframe thead th {\n",
       "        text-align: right;\n",
       "    }\n",
       "</style>\n",
       "<table border=\"1\" class=\"dataframe\">\n",
       "  <thead>\n",
       "    <tr style=\"text-align: right;\">\n",
       "      <th></th>\n",
       "      <th>product_code</th>\n",
       "      <th>product</th>\n",
       "      <th>manufacturing_cost</th>\n",
       "    </tr>\n",
       "  </thead>\n",
       "  <tbody>\n",
       "    <tr>\n",
       "      <th>0</th>\n",
       "      <td>A6120110206</td>\n",
       "      <td>AQ HOME Allin1 Gen 2</td>\n",
       "      <td>240.5364</td>\n",
       "    </tr>\n",
       "    <tr>\n",
       "      <th>1</th>\n",
       "      <td>A2118150101</td>\n",
       "      <td>AQ Master wired x1 Ms</td>\n",
       "      <td>0.8920</td>\n",
       "    </tr>\n",
       "  </tbody>\n",
       "</table>\n",
       "</div>"
      ],
      "text/plain": [
       "  product_code                product manufacturing_cost\n",
       "0  A6120110206   AQ HOME Allin1 Gen 2           240.5364\n",
       "1  A2118150101  AQ Master wired x1 Ms             0.8920"
      ]
     },
     "execution_count": 7,
     "metadata": {},
     "output_type": "execute_result"
    }
   ],
   "source": [
    "QUERY = '''\n",
    "        SELECT fc.product_code, product, manufacturing_cost FROM fact_manufacturing_cost as fc\n",
    "            JOIN dim_product as dp\n",
    "            ON fc.product_code = dp.product_code\n",
    "            WHERE fc.manufacturing_cost = (SELECT max(manufacturing_cost) FROM fact_manufacturing_cost) OR\n",
    "                fc.manufacturing_cost = (SELECT min(manufacturing_cost) FROM fact_manufacturing_cost)\n",
    "            ORDER BY manufacturing_cost DESC\n",
    "        '''\n",
    "cursorObject.execute(QUERY)\n",
    "pd.DataFrame(cursorObject.fetchall(), columns = cursorObject.column_names)"
   ]
  },
  {
   "cell_type": "markdown",
   "id": "396300f5-71f1-4f88-af43-91668a42ad7a",
   "metadata": {},
   "source": [
    "### Q6. Generate a report which contains the top 5 customers who received an average high pre_invoice_discount_pct for the **fiscal year 2021** and in the **Indian** market.\n",
    "The final output contains these fields,\n",
    "- customer_code\n",
    "- customer\n",
    "- average_discount_percentage"
   ]
  },
  {
   "cell_type": "code",
   "execution_count": 8,
   "id": "82d48eb4-b1bd-48bc-9545-fe8fd3b00c46",
   "metadata": {
    "tags": []
   },
   "outputs": [
    {
     "data": {
      "text/html": [
       "<div>\n",
       "<style scoped>\n",
       "    .dataframe tbody tr th:only-of-type {\n",
       "        vertical-align: middle;\n",
       "    }\n",
       "\n",
       "    .dataframe tbody tr th {\n",
       "        vertical-align: top;\n",
       "    }\n",
       "\n",
       "    .dataframe thead th {\n",
       "        text-align: right;\n",
       "    }\n",
       "</style>\n",
       "<table border=\"1\" class=\"dataframe\">\n",
       "  <thead>\n",
       "    <tr style=\"text-align: right;\">\n",
       "      <th></th>\n",
       "      <th>customer_code</th>\n",
       "      <th>customer</th>\n",
       "      <th>pre_invoice_discount_pct</th>\n",
       "    </tr>\n",
       "  </thead>\n",
       "  <tbody>\n",
       "    <tr>\n",
       "      <th>0</th>\n",
       "      <td>90002009</td>\n",
       "      <td>Flipkart</td>\n",
       "      <td>0.3083</td>\n",
       "    </tr>\n",
       "    <tr>\n",
       "      <th>1</th>\n",
       "      <td>90002006</td>\n",
       "      <td>Viveks</td>\n",
       "      <td>0.3038</td>\n",
       "    </tr>\n",
       "    <tr>\n",
       "      <th>2</th>\n",
       "      <td>90002003</td>\n",
       "      <td>Ezone</td>\n",
       "      <td>0.3028</td>\n",
       "    </tr>\n",
       "    <tr>\n",
       "      <th>3</th>\n",
       "      <td>90002002</td>\n",
       "      <td>Croma</td>\n",
       "      <td>0.3025</td>\n",
       "    </tr>\n",
       "    <tr>\n",
       "      <th>4</th>\n",
       "      <td>90002016</td>\n",
       "      <td>Amazon</td>\n",
       "      <td>0.2933</td>\n",
       "    </tr>\n",
       "  </tbody>\n",
       "</table>\n",
       "</div>"
      ],
      "text/plain": [
       "   customer_code  customer pre_invoice_discount_pct\n",
       "0       90002009  Flipkart                   0.3083\n",
       "1       90002006    Viveks                   0.3038\n",
       "2       90002003     Ezone                   0.3028\n",
       "3       90002002     Croma                   0.3025\n",
       "4       90002016   Amazon                    0.2933"
      ]
     },
     "execution_count": 8,
     "metadata": {},
     "output_type": "execute_result"
    }
   ],
   "source": [
    "QUERY = '''\n",
    "        SELECT fd.customer_code, customer, pre_invoice_discount_pct FROM fact_pre_invoice_deductions fd\n",
    "            JOIN dim_customer dc\n",
    "            ON fd.customer_code = dc.customer_code\n",
    "            WHERE market = \"India\"\n",
    "            ORDER BY pre_invoice_discount_pct DESC\n",
    "            LIMIT 5\n",
    "        '''\n",
    "cursorObject.execute(QUERY)\n",
    "pd.DataFrame(cursorObject.fetchall(), columns = cursorObject.column_names)"
   ]
  },
  {
   "cell_type": "code",
   "execution_count": null,
   "id": "3e000d42-153f-4340-a943-ad79a228ab58",
   "metadata": {},
   "outputs": [],
   "source": []
  }
 ],
 "metadata": {
  "kernelspec": {
   "display_name": "Python 3 (ipykernel)",
   "language": "python",
   "name": "python3"
  },
  "language_info": {
   "codemirror_mode": {
    "name": "ipython",
    "version": 3
   },
   "file_extension": ".py",
   "mimetype": "text/x-python",
   "name": "python",
   "nbconvert_exporter": "python",
   "pygments_lexer": "ipython3",
   "version": "3.10.9"
  }
 },
 "nbformat": 4,
 "nbformat_minor": 5
}
