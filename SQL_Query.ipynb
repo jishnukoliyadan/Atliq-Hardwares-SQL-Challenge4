{
 "cells": [
  {
   "cell_type": "markdown",
   "id": "2ff56608-bf29-4209-9c97-95984c8a6cb1",
   "metadata": {
    "tags": []
   },
   "source": [
    "## Importing Libraries"
   ]
  },
  {
   "cell_type": "code",
   "execution_count": 1,
   "id": "ca1d9891-8557-4663-964e-e30be2875f59",
   "metadata": {
    "tags": []
   },
   "outputs": [],
   "source": [
    "import pandas as pd\n",
    "import mysql.connector\n",
    "from credentials import db_password"
   ]
  },
  {
   "cell_type": "markdown",
   "id": "c6c36fd5-5050-4b3a-b4f8-f590f08676c2",
   "metadata": {},
   "source": [
    "## Connecting to **gdb023** database"
   ]
  },
  {
   "cell_type": "code",
   "execution_count": 2,
   "id": "18e6dbe0-d75a-46d7-ba43-65f71d68a6c9",
   "metadata": {
    "tags": []
   },
   "outputs": [
    {
     "name": "stdout",
     "output_type": "stream",
     "text": [
      "dim_customer\n",
      "dim_product\n",
      "fact_gross_price\n",
      "fact_manufacturing_cost\n",
      "fact_pre_invoice_deductions\n",
      "fact_sales_monthly\n"
     ]
    }
   ],
   "source": [
    "mydb = mysql.connector.connect(host = 'localhost', user = 'root', password = db_password, database = 'gdb023')\n",
    "cursorObject = mydb.cursor()\n",
    "\n",
    "query = '''\n",
    "        SHOW TABLES\n",
    "        '''\n",
    "cursorObject.execute(query)\n",
    "tables_list = cursorObject.fetchall()\n",
    "\n",
    "for table in tables_list:\n",
    "    print(table[0])"
   ]
  },
  {
   "cell_type": "markdown",
   "id": "b4efcfce-2e38-406e-bf8a-5f409eb76adc",
   "metadata": {},
   "source": [
    "## Requests :"
   ]
  },
  {
   "cell_type": "markdown",
   "id": "dfe17752-9a9a-49bd-a98b-17305e96de73",
   "metadata": {},
   "source": [
    "### Q1. Provide the list of markets in which customer **\"Atliq Exclusive\"** operates its business in the **APAC** region."
   ]
  },
  {
   "cell_type": "code",
   "execution_count": 3,
   "id": "825db86f-4b42-4503-8fdd-659e0b55fde9",
   "metadata": {
    "tags": []
   },
   "outputs": [
    {
     "data": {
      "text/html": [
       "<div>\n",
       "<style scoped>\n",
       "    .dataframe tbody tr th:only-of-type {\n",
       "        vertical-align: middle;\n",
       "    }\n",
       "\n",
       "    .dataframe tbody tr th {\n",
       "        vertical-align: top;\n",
       "    }\n",
       "\n",
       "    .dataframe thead th {\n",
       "        text-align: right;\n",
       "    }\n",
       "</style>\n",
       "<table border=\"1\" class=\"dataframe\">\n",
       "  <thead>\n",
       "    <tr style=\"text-align: right;\">\n",
       "      <th></th>\n",
       "      <th>market</th>\n",
       "    </tr>\n",
       "  </thead>\n",
       "  <tbody>\n",
       "    <tr>\n",
       "      <th>0</th>\n",
       "      <td>India</td>\n",
       "    </tr>\n",
       "    <tr>\n",
       "      <th>1</th>\n",
       "      <td>Indonesia</td>\n",
       "    </tr>\n",
       "    <tr>\n",
       "      <th>2</th>\n",
       "      <td>Japan</td>\n",
       "    </tr>\n",
       "    <tr>\n",
       "      <th>3</th>\n",
       "      <td>Philiphines</td>\n",
       "    </tr>\n",
       "    <tr>\n",
       "      <th>4</th>\n",
       "      <td>South Korea</td>\n",
       "    </tr>\n",
       "    <tr>\n",
       "      <th>5</th>\n",
       "      <td>Australia</td>\n",
       "    </tr>\n",
       "    <tr>\n",
       "      <th>6</th>\n",
       "      <td>Newzealand</td>\n",
       "    </tr>\n",
       "    <tr>\n",
       "      <th>7</th>\n",
       "      <td>Bangladesh</td>\n",
       "    </tr>\n",
       "  </tbody>\n",
       "</table>\n",
       "</div>"
      ],
      "text/plain": [
       "        market\n",
       "0        India\n",
       "1    Indonesia\n",
       "2        Japan\n",
       "3  Philiphines\n",
       "4  South Korea\n",
       "5    Australia\n",
       "6   Newzealand\n",
       "7   Bangladesh"
      ]
     },
     "execution_count": 3,
     "metadata": {},
     "output_type": "execute_result"
    }
   ],
   "source": [
    "QUERY = '''\n",
    "        SELECT DISTINCT(market) FROM dim_customer\n",
    "            WHERE region = 'APAC' AND customer = 'Atliq Exclusive'\n",
    "        '''\n",
    "cursorObject.execute(QUERY)\n",
    "pd.DataFrame(cursorObject.fetchall(), columns = cursorObject.column_names)"
   ]
  },
  {
   "cell_type": "markdown",
   "id": "b1ec8042-f2da-4922-8aa2-fd12dafa2292",
   "metadata": {
    "tags": []
   },
   "source": [
    "### Q2. What is the percentage of unique product increase in 2021 vs. 2020?\n",
    "The final output contains these fields,\n",
    "- unique_products_2020\n",
    "- unique_products_2021\n",
    "- percentage_chg"
   ]
  },
  {
   "cell_type": "code",
   "execution_count": 4,
   "id": "0de80081-4e5c-4dd1-bb36-74be27b15fbd",
   "metadata": {
    "tags": []
   },
   "outputs": [
    {
     "data": {
      "text/html": [
       "<div>\n",
       "<style scoped>\n",
       "    .dataframe tbody tr th:only-of-type {\n",
       "        vertical-align: middle;\n",
       "    }\n",
       "\n",
       "    .dataframe tbody tr th {\n",
       "        vertical-align: top;\n",
       "    }\n",
       "\n",
       "    .dataframe thead th {\n",
       "        text-align: right;\n",
       "    }\n",
       "</style>\n",
       "<table border=\"1\" class=\"dataframe\">\n",
       "  <thead>\n",
       "    <tr style=\"text-align: right;\">\n",
       "      <th></th>\n",
       "      <th>unique_products_2020</th>\n",
       "      <th>unique_products_2021</th>\n",
       "      <th>percentage_chg</th>\n",
       "    </tr>\n",
       "  </thead>\n",
       "  <tbody>\n",
       "    <tr>\n",
       "      <th>0</th>\n",
       "      <td>245</td>\n",
       "      <td>334</td>\n",
       "      <td>36.33</td>\n",
       "    </tr>\n",
       "  </tbody>\n",
       "</table>\n",
       "</div>"
      ],
      "text/plain": [
       "   unique_products_2020  unique_products_2021 percentage_chg\n",
       "0                   245                   334          36.33"
      ]
     },
     "execution_count": 4,
     "metadata": {},
     "output_type": "execute_result"
    }
   ],
   "source": [
    "QUERY = '''\n",
    "        WITH fy20 AS (\n",
    "                SELECT COUNT(DISTINCT(product_code)) AS up_20 FROM fact_sales_monthly\n",
    "                    WHERE fiscal_year = 2020),\n",
    "                    \n",
    "            fy21 AS (\n",
    "                SELECT COUNT(DISTINCT(product_code)) AS up_21 FROM fact_sales_monthly\n",
    "                    WHERE fiscal_year = 2021)\n",
    "                    \n",
    "        SELECT fy20.up_20 AS unique_products_2020,\n",
    "            fy21.up_21 AS unique_products_2021,\n",
    "            ROUND((fy21.up_21-fy20.up_20) * 100/fy20.up_20, 2) as percentage_chg\n",
    "            FROM fy20, fy21\n",
    "        '''\n",
    "cursorObject.execute(QUERY)\n",
    "pd.DataFrame(cursorObject.fetchall(), columns = cursorObject.column_names)"
   ]
  },
  {
   "cell_type": "markdown",
   "id": "5da852b1-88a8-4ae5-be29-a949c2b183da",
   "metadata": {
    "tags": []
   },
   "source": [
    "### Q3. Provide a report with all the unique product counts for each **segment** and sort them in descending order of product counts.\n",
    "The final output contains 2 fields,\n",
    "- segment\n",
    "- product_count"
   ]
  },
  {
   "cell_type": "code",
   "execution_count": 5,
   "id": "5ac408b4-b27e-4e41-822f-1024d88feb38",
   "metadata": {
    "tags": []
   },
   "outputs": [
    {
     "data": {
      "text/html": [
       "<div>\n",
       "<style scoped>\n",
       "    .dataframe tbody tr th:only-of-type {\n",
       "        vertical-align: middle;\n",
       "    }\n",
       "\n",
       "    .dataframe tbody tr th {\n",
       "        vertical-align: top;\n",
       "    }\n",
       "\n",
       "    .dataframe thead th {\n",
       "        text-align: right;\n",
       "    }\n",
       "</style>\n",
       "<table border=\"1\" class=\"dataframe\">\n",
       "  <thead>\n",
       "    <tr style=\"text-align: right;\">\n",
       "      <th></th>\n",
       "      <th>segment</th>\n",
       "      <th>product_count</th>\n",
       "    </tr>\n",
       "  </thead>\n",
       "  <tbody>\n",
       "    <tr>\n",
       "      <th>0</th>\n",
       "      <td>Notebook</td>\n",
       "      <td>129</td>\n",
       "    </tr>\n",
       "    <tr>\n",
       "      <th>1</th>\n",
       "      <td>Accessories</td>\n",
       "      <td>116</td>\n",
       "    </tr>\n",
       "    <tr>\n",
       "      <th>2</th>\n",
       "      <td>Peripherals</td>\n",
       "      <td>84</td>\n",
       "    </tr>\n",
       "    <tr>\n",
       "      <th>3</th>\n",
       "      <td>Desktop</td>\n",
       "      <td>32</td>\n",
       "    </tr>\n",
       "    <tr>\n",
       "      <th>4</th>\n",
       "      <td>Storage</td>\n",
       "      <td>27</td>\n",
       "    </tr>\n",
       "    <tr>\n",
       "      <th>5</th>\n",
       "      <td>Networking</td>\n",
       "      <td>9</td>\n",
       "    </tr>\n",
       "  </tbody>\n",
       "</table>\n",
       "</div>"
      ],
      "text/plain": [
       "       segment  product_count\n",
       "0     Notebook            129\n",
       "1  Accessories            116\n",
       "2  Peripherals             84\n",
       "3      Desktop             32\n",
       "4      Storage             27\n",
       "5   Networking              9"
      ]
     },
     "execution_count": 5,
     "metadata": {},
     "output_type": "execute_result"
    }
   ],
   "source": [
    "QUERY = '''\n",
    "        SELECT segment, count(product) AS product_count FROM dim_product\n",
    "            GROUP BY segment\n",
    "            ORDER BY product_count DESC\n",
    "        '''\n",
    "cursorObject.execute(QUERY)\n",
    "pd.DataFrame(cursorObject.fetchall(), columns = cursorObject.column_names)"
   ]
  },
  {
   "cell_type": "code",
   "execution_count": null,
   "id": "bdcae18d-3ec5-4fe2-b1c3-47a2fe24445f",
   "metadata": {},
   "outputs": [],
   "source": []
  }
 ],
 "metadata": {
  "kernelspec": {
   "display_name": "Python 3 (ipykernel)",
   "language": "python",
   "name": "python3"
  },
  "language_info": {
   "codemirror_mode": {
    "name": "ipython",
    "version": 3
   },
   "file_extension": ".py",
   "mimetype": "text/x-python",
   "name": "python",
   "nbconvert_exporter": "python",
   "pygments_lexer": "ipython3",
   "version": "3.10.9"
  }
 },
 "nbformat": 4,
 "nbformat_minor": 5
}
